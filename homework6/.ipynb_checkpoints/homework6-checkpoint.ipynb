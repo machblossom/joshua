{
 "cells": [
  {
   "cell_type": "code",
   "execution_count": 1,
   "id": "07af2304-a259-4486-b802-01d5b3feeb87",
   "metadata": {},
   "outputs": [],
   "source": [
    "import numpy as np"
   ]
  },
  {
   "cell_type": "code",
   "execution_count": null,
   "id": "c56da318-c390-4009-88a3-d006491d95ed",
   "metadata": {},
   "outputs": [],
   "source": [
    "# --- 3 NumPy Arrays ---"
   ]
  },
  {
   "cell_type": "code",
   "execution_count": 102,
   "id": "27a5b963-55fa-450c-b800-5936610ad102",
   "metadata": {},
   "outputs": [
    {
     "name": "stdout",
     "output_type": "stream",
     "text": [
      "[ 80 108  36  48 124  68  16 200 156 140]\n",
      "24.4\n",
      "23.5\n",
      "13.828955130450023\n",
      "4\n",
      "50\n",
      "4\n",
      "50\n",
      "[27 31 50 39 35]\n"
     ]
    }
   ],
   "source": [
    "# 3.1 1D NumPy Arrays\n",
    "\n",
    "list = [20, 27, 9, 12, 31, 17, 4, 50, 39, 35]\n",
    "arr = np.array(list)\n",
    "\n",
    "print(arr * 4)\n",
    "print(np.mean(arr))\n",
    "print(np.median(arr))\n",
    "print(np.std(arr))\n",
    "arr_min = np.argmin(arr)\n",
    "arr_max = np.argmax(arr)\n",
    "print(arr[arr_min])\n",
    "print(arr[arr_max])\n",
    "print(np.min(arr))\n",
    "print(np.max(arr))\n",
    "\n",
    "# Yes, the values for max and min match\n",
    "\n",
    "\n",
    "mask1 = arr > 20\n",
    "new_array = arr[mask1]\n",
    "print(new_array)\n",
    "\n"
   ]
  },
  {
   "cell_type": "code",
   "execution_count": 103,
   "id": "342678e8-c606-47a8-8fc5-886bcd6d3ce3",
   "metadata": {},
   "outputs": [
    {
     "name": "stdout",
     "output_type": "stream",
     "text": [
      "(3, 4)\n",
      "[ 7 14 19]\n",
      "[ 8 21 14  3]\n",
      "[[10 24 14 18]\n",
      " [16 42 28  6]\n",
      " [12 26 38 22]]\n",
      "6.333333333333333\n",
      "15.333333333333334\n",
      "13.333333333333334\n",
      "10.666666666666666\n",
      "12\n",
      "21\n",
      "19\n",
      "5\n",
      "12\n",
      "7\n",
      "3\n",
      "[ 5 12  7  9  8 21 14  3  6 13 19 11]\n",
      "(12,)\n",
      "(np.int64(1), np.int64(3))\n",
      "(np.int64(1), np.int64(1))\n",
      "[21 19]\n",
      "[19 21]\n"
     ]
    }
   ],
   "source": [
    "# 3.2 2D NumPy Arrays\n",
    "\n",
    "matrix_list = [\n",
    "    [5, 12, 7, 9],\n",
    "    [8, 21, 14, 3],\n",
    "    [6, 13, 19, 11]\n",
    "]\n",
    "\n",
    "matrix = np.array(matrix_list)\n",
    "\n",
    "\n",
    "print(np.shape(matrix)) # 3 Rows and 4 Columns\n",
    "print(matrix[:, 2])\n",
    "print(matrix[1])\n",
    "print(matrix * 2)\n",
    "\n",
    "print(np.mean(matrix[:, 0])) # mean for 1st column\n",
    "print(np.mean(matrix[:, 1])) # mean for 2nd column\n",
    "print(np.mean(matrix[:, 2])) # mean for 3rd column\n",
    "\n",
    "print(np.mean(matrix))\n",
    "\n",
    "print(np.max(matrix[0])) # max in row 1\n",
    "print(np.max(matrix[1])) # max in row 2\n",
    "print(np.max(matrix[2])) # max in row 3\n",
    "\n",
    "print(np.min(matrix[:, 0])) # min in column 1\n",
    "print(np.min(matrix[:, 1])) # min in column 2\n",
    "print(np.min(matrix[:, 2])) # min in column 3\n",
    "print(np.min(matrix[:, 3])) # min in column 4\n",
    "\n",
    "\n",
    "flat_matrix = matrix.flatten()\n",
    "print(flat_matrix)\n",
    "print(np.shape(flat_matrix)) # The new shape is 12 Rows, it flattened the original matrix to be one column\n",
    "\n",
    "flat_mat_min = np.argmin(matrix)\n",
    "flat_mat_max = np.argmax(matrix)\n",
    "print(np.unravel_index(flat_mat_min, np.shape(matrix)))\n",
    "print(np.unravel_index(flat_mat_max, np.shape(matrix)))\n",
    "\n",
    "mask2 = matrix > 15\n",
    "new_matrix = matrix[mask2]\n",
    "print(new_matrix)\n",
    "print(np.sort(new_matrix))"
   ]
  },
  {
   "cell_type": "code",
   "execution_count": 104,
   "id": "9b2ebf0a-4655-4bc6-8d4e-a8a6e16cc592",
   "metadata": {},
   "outputs": [
    {
     "name": "stdout",
     "output_type": "stream",
     "text": [
      "[[ 2  3  5]\n",
      " [11 13 17]\n",
      " [ 7 10 13]]\n"
     ]
    }
   ],
   "source": [
    "# --- 4 Prime Star Systems ---\n",
    "\n",
    "\n",
    "arr = np.array([\n",
    "    [2, 3, 5],\n",
    "    [14, 6, 8],\n",
    "    [11, 13, 17],\n",
    "    [7, 10, 13]\n",
    "])\n",
    "\n",
    "def prime_row_array(matrix):\n",
    "    prime_mask = []\n",
    "    for row in matrix:\n",
    "        for val in row:\n",
    "            if (val % 2 == 0) or (val % 3 == 0):\n",
    "                prime_bool = False\n",
    "            else:\n",
    "                prime_bool = True\n",
    "        prime_mask.append(prime_bool)\n",
    "    prime_matrix = matrix[prime_mask]\n",
    "    return prime_matrix\n",
    "    \n",
    "\n",
    "\n",
    "\n",
    "\n",
    "print(prime_row_array(arr))"
   ]
  },
  {
   "cell_type": "code",
   "execution_count": 105,
   "id": "7230e23c-fd01-4590-88a7-2a936ed6a88e",
   "metadata": {},
   "outputs": [
    {
     "name": "stdout",
     "output_type": "stream",
     "text": [
      "[[1. 0. 1. 0. 1. 0. 1. 0.]\n",
      " [0. 1. 0. 1. 0. 1. 0. 1.]\n",
      " [1. 0. 1. 0. 1. 0. 1. 0.]\n",
      " [0. 1. 0. 1. 0. 1. 0. 1.]\n",
      " [1. 0. 1. 0. 1. 0. 1. 0.]\n",
      " [0. 1. 0. 1. 0. 1. 0. 1.]\n",
      " [1. 0. 1. 0. 1. 0. 1. 0.]\n",
      " [0. 1. 0. 1. 0. 1. 0. 1.]]\n",
      "[[0. 1. 0. 1. 0. 1. 0. 1.]\n",
      " [1. 0. 1. 0. 1. 0. 1. 0.]\n",
      " [0. 1. 0. 1. 0. 1. 0. 1.]\n",
      " [1. 0. 1. 0. 1. 0. 1. 0.]\n",
      " [0. 1. 0. 1. 0. 1. 0. 1.]\n",
      " [1. 0. 1. 0. 1. 0. 1. 0.]\n",
      " [0. 1. 0. 1. 0. 1. 0. 1.]\n",
      " [1. 0. 1. 0. 1. 0. 1. 0.]]\n"
     ]
    }
   ],
   "source": [
    "# --- 5 Let's Play Checkers! ---\n",
    "\n",
    "\n",
    "# 5.1\n",
    "\n",
    "def eight_by_eight():\n",
    "    board = np.zeros((8, 8))\n",
    "    return board\n",
    "\n",
    "board = eight_by_eight()\n",
    "\n",
    "\n",
    "# 5.2\n",
    "\n",
    "board[::2, ::2] = 1\n",
    "\n",
    "\n",
    "# 5.3\n",
    "\n",
    "board[1::2, 1::2] = 1\n",
    "print(board)\n",
    "\n",
    "\n",
    "# 5.4\n",
    "\n",
    "def reverse_checkerboard(board):\n",
    "    new_board = board[::-1]\n",
    "    return new_board\n",
    "\n",
    "print(reverse_checkerboard(board))"
   ]
  },
  {
   "cell_type": "code",
   "execution_count": 106,
   "id": "90ca62bb-7c0b-4b4a-8ce2-acc5b8c964b0",
   "metadata": {},
   "outputs": [
    {
     "name": "stdout",
     "output_type": "stream",
     "text": [
      "['g a l a x y ', 'c l u s t e r s ']\n"
     ]
    }
   ],
   "source": [
    "# --- 6 The Expanding Universe ---\n",
    "\n",
    "\n",
    "universe = np.array([\"galaxy\", \"clusters\"])\n",
    "\n",
    "number = 1\n",
    "\n",
    "def expansion(string, number):\n",
    "    new_univ = []\n",
    "    \n",
    "    for word in string:\n",
    "        new_word = \"\"\n",
    "        for letter in word:  \n",
    "            new_letter = letter + (number * \" \")\n",
    "            new_word = new_word + new_letter\n",
    "        new_univ.append(new_word)\n",
    "    return new_univ\n",
    "            \n",
    "\n",
    "print(expansion(universe, number))"
   ]
  },
  {
   "cell_type": "code",
   "execution_count": 107,
   "id": "dfeeb78b-bf7e-4ff8-a747-72d99ac7036c",
   "metadata": {},
   "outputs": [
    {
     "name": "stdout",
     "output_type": "stream",
     "text": [
      "[[1889 1906 1846 1622 1541]\n",
      " [ 606 1647 1738  596  613]\n",
      " [1138  547  573 1442  724]\n",
      " [ 611 1933 1863 1346 1777]\n",
      " [ 920 1108 1732 1592  951]]\n",
      "[1889 1647 1138 1863 1592]\n"
     ]
    }
   ],
   "source": [
    "# --- 7 Second-Brightest Star ---\n",
    "\n",
    "\n",
    "np.random.seed(123)\n",
    "stars = np.random.randint(500, 2000, (5, 5))\n",
    "print(stars)\n",
    "\n",
    "def secondBrightest(stars):\n",
    "    secondBrightestArray = []\n",
    "    for cluster in stars:\n",
    "        brightestStar = np.max(cluster)\n",
    "        secondBrightestStar = 0\n",
    "        for star in cluster:\n",
    "            if (star > secondBrightestStar) and (star != brightestStar):\n",
    "                secondBrightestStar = star\n",
    "        secondBrightestArray.append(secondBrightestStar)\n",
    "    return np.array(secondBrightestArray)\n",
    "            \n",
    "\n",
    "print(secondBrightest(stars))\n"
   ]
  }
 ],
 "metadata": {
  "kernelspec": {
   "display_name": "Python 3 (ipykernel)",
   "language": "python",
   "name": "python3"
  },
  "language_info": {
   "codemirror_mode": {
    "name": "ipython",
    "version": 3
   },
   "file_extension": ".py",
   "mimetype": "text/x-python",
   "name": "python",
   "nbconvert_exporter": "python",
   "pygments_lexer": "ipython3",
   "version": "3.13.7"
  }
 },
 "nbformat": 4,
 "nbformat_minor": 5
}
