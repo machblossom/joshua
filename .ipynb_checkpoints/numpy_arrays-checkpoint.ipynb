{
 "cells": [
  {
   "cell_type": "code",
   "execution_count": 2,
   "id": "69ba8e5a-abe9-47f9-98e2-2b48f2908b60",
   "metadata": {},
   "outputs": [],
   "source": [
    "import numpy as np"
   ]
  },
  {
   "cell_type": "code",
   "execution_count": 6,
   "id": "66679f5e-087f-4dea-8b9e-30a277f86dd5",
   "metadata": {},
   "outputs": [
    {
     "name": "stdout",
     "output_type": "stream",
     "text": [
      "hello\n"
     ]
    }
   ],
   "source": [
    "print(\"hello\")"
   ]
  },
  {
   "cell_type": "code",
   "execution_count": 7,
   "id": "bac72723-623e-4a84-9435-a7152022abc9",
   "metadata": {},
   "outputs": [
    {
     "data": {
      "text/plain": [
       "2"
      ]
     },
     "execution_count": 7,
     "metadata": {},
     "output_type": "execute_result"
    }
   ],
   "source": [
    "1+1"
   ]
  },
  {
   "cell_type": "code",
   "execution_count": 8,
   "id": "c35d989e-21a3-4516-b532-1890d1ca7cbc",
   "metadata": {},
   "outputs": [
    {
     "name": "stdout",
     "output_type": "stream",
     "text": [
      "[1, 2, 3]\n"
     ]
    }
   ],
   "source": [
    "numbers = [1, 2, 3]\n",
    "print(numbers)"
   ]
  },
  {
   "cell_type": "code",
   "execution_count": 9,
   "id": "49c0c60b-758b-4448-b737-ec68e16396cf",
   "metadata": {},
   "outputs": [
    {
     "name": "stdout",
     "output_type": "stream",
     "text": [
      "[1, 2, 3, 1, 2, 3]\n"
     ]
    }
   ],
   "source": [
    "doubled = numbers * 2\n",
    "print(doubled)"
   ]
  },
  {
   "cell_type": "code",
   "execution_count": 12,
   "id": "e40a6227-650c-4640-a110-b2e1dd5d032d",
   "metadata": {},
   "outputs": [
    {
     "name": "stdout",
     "output_type": "stream",
     "text": [
      "[2, 4, 6]\n"
     ]
    }
   ],
   "source": [
    "doubled = []\n",
    "for num in numbers:\n",
    "    doubled.append(num*2)\n",
    "print(doubled)"
   ]
  },
  {
   "cell_type": "code",
   "execution_count": 13,
   "id": "c94a6fec-df3c-44b3-bb50-287d9d1ccd16",
   "metadata": {},
   "outputs": [
    {
     "name": "stdout",
     "output_type": "stream",
     "text": [
      "[1 2 3]\n"
     ]
    }
   ],
   "source": [
    "arr = np.array([1, 2, 3])\n",
    "print(arr)"
   ]
  },
  {
   "cell_type": "code",
   "execution_count": 15,
   "id": "5255a435-464b-4a9a-80a5-128fa3ee3ac3",
   "metadata": {},
   "outputs": [
    {
     "name": "stdout",
     "output_type": "stream",
     "text": [
      "[2 4 6]\n",
      "<class 'numpy.ndarray'>\n"
     ]
    }
   ],
   "source": [
    "arr_doubled = arr * 2\n",
    "print(arr_doubled)\n",
    "print(type(arr))"
   ]
  },
  {
   "cell_type": "code",
   "execution_count": 17,
   "id": "d95d27ff-4c76-4465-aba3-2bcc5ea17e01",
   "metadata": {},
   "outputs": [
    {
     "name": "stdout",
     "output_type": "stream",
     "text": [
      "[3, 6, 9, 12]\n",
      "[ 3  6  9 12]\n"
     ]
    }
   ],
   "source": [
    "my_list = [3, 6, 9, 12]\n",
    "my_arr = np.array(my_list)\n",
    "print(my_list)\n",
    "print(my_arr)"
   ]
  },
  {
   "cell_type": "code",
   "execution_count": 18,
   "id": "29359c71-c31d-46b9-8d11-c23a68662dc7",
   "metadata": {},
   "outputs": [
    {
     "name": "stdout",
     "output_type": "stream",
     "text": [
      "43.6\n",
      "44.5\n",
      "21.019990485249988\n",
      "441.84000000000003\n"
     ]
    }
   ],
   "source": [
    "data = [44, 8, 32, 14, 35, 57, 45, 67, 78, 56]\n",
    "\n",
    "print(np.mean(data))\n",
    "print(np.median(data))\n",
    "print(np.std(data))\n",
    "print(np.var(data))"
   ]
  },
  {
   "cell_type": "code",
   "execution_count": 20,
   "id": "63c79d07-eaa5-4b6f-990e-90f71765e1bf",
   "metadata": {},
   "outputs": [
    {
     "name": "stdout",
     "output_type": "stream",
     "text": [
      "1\n"
     ]
    }
   ],
   "source": [
    "nested = [\n",
    "    [1, 2, 3],\n",
    "    [4, 5, 6]\n",
    "]\n",
    "\n",
    "print(nested[0][0])"
   ]
  },
  {
   "cell_type": "code",
   "execution_count": 24,
   "id": "8a34f257-d349-4836-a2dc-a9c940955da2",
   "metadata": {},
   "outputs": [
    {
     "name": "stdout",
     "output_type": "stream",
     "text": [
      "1\n"
     ]
    }
   ],
   "source": [
    "ndarray = np.array([\n",
    "    [1, 2, 3],\n",
    "    [4, 5, 6]\n",
    "])\n",
    "\n",
    "print(ndarray[0,0])"
   ]
  },
  {
   "cell_type": "code",
   "execution_count": 27,
   "id": "7e689fd2-2b99-499f-b562-d3a5af87e493",
   "metadata": {},
   "outputs": [
    {
     "name": "stdout",
     "output_type": "stream",
     "text": [
      "60\n",
      "60\n"
     ]
    }
   ],
   "source": [
    "nested_list = [\n",
    "    [20, 40],\n",
    "    [60, 80],\n",
    "    [100, 120]\n",
    "]\n",
    "print(nested_list[1][0])\n",
    "\n",
    "nd_array = np.array([\n",
    "    [20, 40],\n",
    "    [60, 80],\n",
    "    [100, 120]\n",
    "])\n",
    "print(nd_array[1, 0])"
   ]
  },
  {
   "cell_type": "code",
   "execution_count": 28,
   "id": "e3bccf1b-0482-4fb3-8007-d4616b3b619a",
   "metadata": {},
   "outputs": [
    {
     "name": "stdout",
     "output_type": "stream",
     "text": [
      "[[ 21  41]\n",
      " [ 61  81]\n",
      " [101 121]]\n"
     ]
    }
   ],
   "source": [
    "print(nd_array + 1)"
   ]
  },
  {
   "cell_type": "code",
   "execution_count": null,
   "id": "aa4080d6-7d3b-43ba-b6c0-28df02382c2f",
   "metadata": {},
   "outputs": [],
   "source": []
  }
 ],
 "metadata": {
  "kernelspec": {
   "display_name": "Python [conda env:base] *",
   "language": "python",
   "name": "conda-base-py"
  },
  "language_info": {
   "codemirror_mode": {
    "name": "ipython",
    "version": 3
   },
   "file_extension": ".py",
   "mimetype": "text/x-python",
   "name": "python",
   "nbconvert_exporter": "python",
   "pygments_lexer": "ipython3",
   "version": "3.13.5"
  }
 },
 "nbformat": 4,
 "nbformat_minor": 5
}
